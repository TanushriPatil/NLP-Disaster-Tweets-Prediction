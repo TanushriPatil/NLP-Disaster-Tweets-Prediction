{
  "nbformat": 4,
  "nbformat_minor": 0,
  "metadata": {
    "kernelspec": {
      "display_name": "Python 3",
      "language": "python",
      "name": "python3"
    },
    "language_info": {
      "codemirror_mode": {
        "name": "ipython",
        "version": 3
      },
      "file_extension": ".py",
      "mimetype": "text/x-python",
      "name": "python",
      "nbconvert_exporter": "python",
      "pygments_lexer": "ipython3",
      "version": "3.8.5"
    },
    "colab": {
      "name": "NLP Disaster tweets.ipynb",
      "provenance": [],
      "collapsed_sections": [],
      "include_colab_link": true
    }
  },
  "cells": [
    {
      "cell_type": "markdown",
      "metadata": {
        "id": "view-in-github",
        "colab_type": "text"
      },
      "source": [
        "<a href=\"https://colab.research.google.com/github/TanushriPatil/NLP-Disaster-Tweets-Prediction/blob/main/NLP_Disaster_tweets.ipynb\" target=\"_parent\"><img src=\"https://colab.research.google.com/assets/colab-badge.svg\" alt=\"Open In Colab\"/></a>"
      ]
    },
    {
      "cell_type": "code",
      "metadata": {
        "colab": {
          "base_uri": "https://localhost:8080/"
        },
        "id": "I2Xnrb9oZSmV",
        "outputId": "6beb5775-d6ba-40e9-de36-d52fda000891"
      },
      "source": [
        "pip install emoji"
      ],
      "execution_count": 1,
      "outputs": [
        {
          "output_type": "stream",
          "text": [
            "Collecting emoji\n",
            "\u001b[?25l  Downloading https://files.pythonhosted.org/packages/24/fa/b3368f41b95a286f8d300e323449ab4e86b85334c2e0b477e94422b8ed0f/emoji-1.2.0-py3-none-any.whl (131kB)\n",
            "\r\u001b[K     |██▌                             | 10kB 13.3MB/s eta 0:00:01\r\u001b[K     |█████                           | 20kB 18.2MB/s eta 0:00:01\r\u001b[K     |███████▌                        | 30kB 16.8MB/s eta 0:00:01\r\u001b[K     |██████████                      | 40kB 14.8MB/s eta 0:00:01\r\u001b[K     |████████████▌                   | 51kB 5.5MB/s eta 0:00:01\r\u001b[K     |███████████████                 | 61kB 6.4MB/s eta 0:00:01\r\u001b[K     |█████████████████▌              | 71kB 6.1MB/s eta 0:00:01\r\u001b[K     |████████████████████            | 81kB 6.1MB/s eta 0:00:01\r\u001b[K     |██████████████████████▌         | 92kB 6.5MB/s eta 0:00:01\r\u001b[K     |█████████████████████████       | 102kB 6.8MB/s eta 0:00:01\r\u001b[K     |███████████████████████████▌    | 112kB 6.8MB/s eta 0:00:01\r\u001b[K     |██████████████████████████████  | 122kB 6.8MB/s eta 0:00:01\r\u001b[K     |████████████████████████████████| 133kB 6.8MB/s \n",
            "\u001b[?25hInstalling collected packages: emoji\n",
            "Successfully installed emoji-1.2.0\n"
          ],
          "name": "stdout"
        }
      ]
    },
    {
      "cell_type": "code",
      "metadata": {
        "colab": {
          "base_uri": "https://localhost:8080/"
        },
        "id": "8PC1sShmYoQi",
        "outputId": "d2f9559b-8078-42e8-fa24-cd2943011b45"
      },
      "source": [
        "import pandas as pd\n",
        "import numpy as np\n",
        "\n",
        "import nltk\n",
        "nltk.download('stopwords')\n",
        "nltk.download('punkt')\n",
        "\n",
        "import string\n",
        "import emoji\n",
        "import re\n"
      ],
      "execution_count": 2,
      "outputs": [
        {
          "output_type": "stream",
          "text": [
            "[nltk_data] Downloading package stopwords to /root/nltk_data...\n",
            "[nltk_data]   Unzipping corpora/stopwords.zip.\n",
            "[nltk_data] Downloading package punkt to /root/nltk_data...\n",
            "[nltk_data]   Unzipping tokenizers/punkt.zip.\n"
          ],
          "name": "stdout"
        }
      ]
    },
    {
      "cell_type": "code",
      "metadata": {
        "colab": {
          "base_uri": "https://localhost:8080/"
        },
        "id": "GJq5oIaHYoQk",
        "outputId": "b6ebd1bf-0499-4a08-feec-cd4c39fd54b1"
      },
      "source": [
        "from google.colab import drive\n",
        "drive.mount(\"/content/gdrive\", force_remount=True)"
      ],
      "execution_count": 3,
      "outputs": [
        {
          "output_type": "stream",
          "text": [
            "Mounted at /content/gdrive\n"
          ],
          "name": "stdout"
        }
      ]
    },
    {
      "cell_type": "code",
      "metadata": {
        "id": "7vgr5-yjYoQl"
      },
      "source": [
        "train_df = pd.read_csv(\"/content/gdrive/MyDrive/Data Science/NLP_disaster_tweets/train.csv\")\n",
        "test_df = pd.read_csv(\"/content/gdrive/MyDrive/Data Science/NLP_disaster_tweets/test.csv\")\n"
      ],
      "execution_count": 4,
      "outputs": []
    },
    {
      "cell_type": "code",
      "metadata": {
        "colab": {
          "base_uri": "https://localhost:8080/",
          "height": 203
        },
        "id": "oh1AFeiPYoQl",
        "outputId": "78d942fb-35d7-43e4-9a52-1fb01a6ccac3"
      },
      "source": [
        "train_df.head()"
      ],
      "execution_count": 5,
      "outputs": [
        {
          "output_type": "execute_result",
          "data": {
            "text/html": [
              "<div>\n",
              "<style scoped>\n",
              "    .dataframe tbody tr th:only-of-type {\n",
              "        vertical-align: middle;\n",
              "    }\n",
              "\n",
              "    .dataframe tbody tr th {\n",
              "        vertical-align: top;\n",
              "    }\n",
              "\n",
              "    .dataframe thead th {\n",
              "        text-align: right;\n",
              "    }\n",
              "</style>\n",
              "<table border=\"1\" class=\"dataframe\">\n",
              "  <thead>\n",
              "    <tr style=\"text-align: right;\">\n",
              "      <th></th>\n",
              "      <th>id</th>\n",
              "      <th>keyword</th>\n",
              "      <th>location</th>\n",
              "      <th>text</th>\n",
              "      <th>target</th>\n",
              "    </tr>\n",
              "  </thead>\n",
              "  <tbody>\n",
              "    <tr>\n",
              "      <th>0</th>\n",
              "      <td>1</td>\n",
              "      <td>NaN</td>\n",
              "      <td>NaN</td>\n",
              "      <td>Our Deeds are the Reason of this #earthquake M...</td>\n",
              "      <td>1</td>\n",
              "    </tr>\n",
              "    <tr>\n",
              "      <th>1</th>\n",
              "      <td>4</td>\n",
              "      <td>NaN</td>\n",
              "      <td>NaN</td>\n",
              "      <td>Forest fire near La Ronge Sask. Canada</td>\n",
              "      <td>1</td>\n",
              "    </tr>\n",
              "    <tr>\n",
              "      <th>2</th>\n",
              "      <td>5</td>\n",
              "      <td>NaN</td>\n",
              "      <td>NaN</td>\n",
              "      <td>All residents asked to 'shelter in place' are ...</td>\n",
              "      <td>1</td>\n",
              "    </tr>\n",
              "    <tr>\n",
              "      <th>3</th>\n",
              "      <td>6</td>\n",
              "      <td>NaN</td>\n",
              "      <td>NaN</td>\n",
              "      <td>13,000 people receive #wildfires evacuation or...</td>\n",
              "      <td>1</td>\n",
              "    </tr>\n",
              "    <tr>\n",
              "      <th>4</th>\n",
              "      <td>7</td>\n",
              "      <td>NaN</td>\n",
              "      <td>NaN</td>\n",
              "      <td>Just got sent this photo from Ruby #Alaska as ...</td>\n",
              "      <td>1</td>\n",
              "    </tr>\n",
              "  </tbody>\n",
              "</table>\n",
              "</div>"
            ],
            "text/plain": [
              "   id keyword  ...                                               text target\n",
              "0   1     NaN  ...  Our Deeds are the Reason of this #earthquake M...      1\n",
              "1   4     NaN  ...             Forest fire near La Ronge Sask. Canada      1\n",
              "2   5     NaN  ...  All residents asked to 'shelter in place' are ...      1\n",
              "3   6     NaN  ...  13,000 people receive #wildfires evacuation or...      1\n",
              "4   7     NaN  ...  Just got sent this photo from Ruby #Alaska as ...      1\n",
              "\n",
              "[5 rows x 5 columns]"
            ]
          },
          "metadata": {
            "tags": []
          },
          "execution_count": 5
        }
      ]
    },
    {
      "cell_type": "code",
      "metadata": {
        "colab": {
          "base_uri": "https://localhost:8080/"
        },
        "id": "ExUnQpk7wDz4",
        "outputId": "e9c593cc-3b91-462a-e12c-abd851a96f43"
      },
      "source": [
        "test_df.head()\n",
        "print(test_df.shape)"
      ],
      "execution_count": 6,
      "outputs": [
        {
          "output_type": "stream",
          "text": [
            "(3263, 4)\n"
          ],
          "name": "stdout"
        }
      ]
    },
    {
      "cell_type": "code",
      "metadata": {
        "colab": {
          "base_uri": "https://localhost:8080/"
        },
        "id": "HZGJNU0nYoQm",
        "outputId": "aaebbd5c-327d-43a8-9a1f-ff9088324a5f"
      },
      "source": [
        "train_df['target'].value_counts()"
      ],
      "execution_count": 7,
      "outputs": [
        {
          "output_type": "execute_result",
          "data": {
            "text/plain": [
              "0    4342\n",
              "1    3271\n",
              "Name: target, dtype: int64"
            ]
          },
          "metadata": {
            "tags": []
          },
          "execution_count": 7
        }
      ]
    },
    {
      "cell_type": "code",
      "metadata": {
        "id": "Fl6bR388hvvP"
      },
      "source": [
        "X = train_df['text']\n",
        "Y = train_df['target']"
      ],
      "execution_count": 8,
      "outputs": []
    },
    {
      "cell_type": "markdown",
      "metadata": {
        "id": "o9Cy06fpYoQm"
      },
      "source": [
        "## Data Pre- processing\n",
        "#### This involves:\n",
        "#### 1. Cleaning the data (removing emojis, hyperlink, punctuation, etc) \n",
        "#### 2. Converting to lowercase\n",
        "#### 3. Removing stopwords\n",
        "#### 4. Tokenization  "
      ]
    },
    {
      "cell_type": "code",
      "metadata": {
        "id": "9Cv6EbJ6gXxz"
      },
      "source": [
        "punc = string.punctuation"
      ],
      "execution_count": 9,
      "outputs": []
    },
    {
      "cell_type": "code",
      "metadata": {
        "id": "x4JADi_3YoQn"
      },
      "source": [
        "def data_cleaning(txt):\n",
        "    txt = re.sub(r'@[A-Za-z0-9_]+', '', txt)\n",
        "    txt = re.sub(r'#', '', txt)\n",
        "    txt = re.sub(emoji.get_emoji_regexp(), r\"\", txt)\n",
        "    txt = re.sub(r'https?:\\/\\/[A-Za-z0-9\\.\\/]+','',txt)\n",
        "    txt = re.sub(r\"https?://\\S+|www\\.\\S+\",\"\",txt)\n",
        "    txt = re.sub(r\"<.*?>\",\"\",txt)\n",
        "    return txt  \n",
        "\n",
        "def remove_punct(txt):\n",
        "    #symbols = \"!\\\"#$%&()*+-./:;<=>?@[\\]^_`{|}~\\n\"\n",
        "    for i in punc:\n",
        "        txt = np.char.replace(txt, i, '')\n",
        "    return txt\n",
        "        \n",
        "def lower_case(txt):\n",
        "    return str.lower(txt)\n"
      ],
      "execution_count": 10,
      "outputs": []
    },
    {
      "cell_type": "code",
      "metadata": {
        "id": "IAzKtXBxYoQn"
      },
      "source": [
        "from nltk.corpus import stopwords\n",
        "\n",
        "stop_words = stopwords.words('english')\n",
        "def remove_stopwords(txt):\n",
        "    txt = [word for word in txt.split() if word not in stop_words]\n",
        "    return \" \".join(txt)\n",
        "        "
      ],
      "execution_count": 11,
      "outputs": []
    },
    {
      "cell_type": "code",
      "metadata": {
        "id": "EVIcLV_fpPz9"
      },
      "source": [
        "from nltk.stem import PorterStemmer\n",
        "stemmer = PorterStemmer()\n",
        "\n",
        "def stemming_process(txt):\n",
        "  txt = [stemmer.stem(word) for word in txt]\n",
        "  txt=''.join(txt)\n",
        "  return txt"
      ],
      "execution_count": 12,
      "outputs": []
    },
    {
      "cell_type": "code",
      "metadata": {
        "id": "Oy0L9jmpYoQo"
      },
      "source": [
        "train_df.text = train_df.text.apply(data_cleaning)\n",
        "train_df.text = train_df.text.apply(remove_punct)\n",
        "train_df.text = train_df.text.apply(lower_case)\n",
        "train_df.text = train_df.text.apply(remove_stopwords)\n",
        "#train_df.text = train_df.text.apply(tokenize_word)\n",
        "#train_df.text = train_df.text.apply(stemming_process)\n",
        "\n",
        "test_df.text = test_df.text.apply(data_cleaning)\n",
        "test_df.text = test_df.text.apply(remove_punct)\n",
        "test_df.text = test_df.text.apply(lower_case)\n",
        "test_df.text = test_df.text.apply(remove_stopwords)\n",
        "#test_df.text = test_df.text.apply(tokenize_word)\n",
        "#test_df.text = test_df.text.apply(stemming_process)"
      ],
      "execution_count": 13,
      "outputs": []
    },
    {
      "cell_type": "code",
      "metadata": {
        "id": "qcz9TxaYhSPI"
      },
      "source": [
        "cleaned_data = []\n",
        "cleaned_data = train_df.text.to_list()\n",
        "cleaned_data\n",
        "test_cleaned_data = []\n",
        "test_cleaned_data = test_df.text.to_list()"
      ],
      "execution_count": 14,
      "outputs": []
    },
    {
      "cell_type": "code",
      "metadata": {
        "id": "7jOUawLAYoQp"
      },
      "source": [
        "train_df = train_df[['text', 'target']]"
      ],
      "execution_count": 15,
      "outputs": []
    },
    {
      "cell_type": "code",
      "metadata": {
        "colab": {
          "base_uri": "https://localhost:8080/"
        },
        "id": "ahxZtvJekeNs",
        "outputId": "1d01c17c-83b1-445a-d589-376b8d6657ab"
      },
      "source": [
        "from sklearn.feature_extraction.text import CountVectorizer\n",
        "cv = CountVectorizer(max_features=1500, stop_words=[\"\\x89û\"])\n",
        "X_fin = cv.fit_transform(cleaned_data).toarray()\n",
        "print(X_fin.shape)\n",
        "fin_test = cv.fit_transform(test_cleaned_data).toarray()\n",
        "print(fin_test.shape)"
      ],
      "execution_count": 16,
      "outputs": [
        {
          "output_type": "stream",
          "text": [
            "(7613, 1500)\n",
            "(3263, 1500)\n"
          ],
          "name": "stdout"
        }
      ]
    },
    {
      "cell_type": "code",
      "metadata": {
        "id": "xMU58LdYYoQp"
      },
      "source": [
        "from sklearn.naive_bayes import MultinomialNB\n",
        "from sklearn.model_selection import train_test_split\n",
        "X_train, X_test, y_train, y_test = train_test_split(X_fin, Y, test_size=0.2)\n",
        "model = MultinomialNB()"
      ],
      "execution_count": 17,
      "outputs": []
    },
    {
      "cell_type": "code",
      "metadata": {
        "colab": {
          "base_uri": "https://localhost:8080/"
        },
        "id": "YFDE8XR5ng8X",
        "outputId": "c9c6fc0d-c26b-4b2b-ccf8-e07c6c562563"
      },
      "source": [
        "model.fit(X_train, y_train)"
      ],
      "execution_count": 18,
      "outputs": [
        {
          "output_type": "execute_result",
          "data": {
            "text/plain": [
              "MultinomialNB(alpha=1.0, class_prior=None, fit_prior=True)"
            ]
          },
          "metadata": {
            "tags": []
          },
          "execution_count": 18
        }
      ]
    },
    {
      "cell_type": "code",
      "metadata": {
        "id": "MckP9EgDnyyl"
      },
      "source": [
        "y_pred = model.predict(X_test)"
      ],
      "execution_count": 19,
      "outputs": []
    },
    {
      "cell_type": "code",
      "metadata": {
        "colab": {
          "base_uri": "https://localhost:8080/"
        },
        "id": "Boz3_4Azn6A_",
        "outputId": "fb4caaf8-d68a-4bac-a958-905cebc0be0f"
      },
      "source": [
        "from sklearn.metrics import classification_report\n",
        "cf = classification_report(y_test, y_pred)\n",
        "print(cf)"
      ],
      "execution_count": 20,
      "outputs": [
        {
          "output_type": "stream",
          "text": [
            "              precision    recall  f1-score   support\n",
            "\n",
            "           0       0.79      0.87      0.83       874\n",
            "           1       0.79      0.68      0.73       649\n",
            "\n",
            "    accuracy                           0.79      1523\n",
            "   macro avg       0.79      0.78      0.78      1523\n",
            "weighted avg       0.79      0.79      0.79      1523\n",
            "\n"
          ],
          "name": "stdout"
        }
      ]
    },
    {
      "cell_type": "code",
      "metadata": {
        "colab": {
          "base_uri": "https://localhost:8080/"
        },
        "id": "_4CRH7KPxA6H",
        "outputId": "420bb8cb-1bc1-4d00-bc13-ac9bffe03d0e"
      },
      "source": [
        "model.fit(X_fin, Y)"
      ],
      "execution_count": 21,
      "outputs": [
        {
          "output_type": "execute_result",
          "data": {
            "text/plain": [
              "MultinomialNB(alpha=1.0, class_prior=None, fit_prior=True)"
            ]
          },
          "metadata": {
            "tags": []
          },
          "execution_count": 21
        }
      ]
    },
    {
      "cell_type": "code",
      "metadata": {
        "id": "7MIK5HlMxSFz"
      },
      "source": [
        "y_pred2 = model.predict(fin_test)"
      ],
      "execution_count": 22,
      "outputs": []
    },
    {
      "cell_type": "code",
      "metadata": {
        "colab": {
          "base_uri": "https://localhost:8080/",
          "height": 417
        },
        "id": "eU0-Q9RVx1G-",
        "outputId": "6db40506-6aa9-4e6a-c7bd-466705109db2"
      },
      "source": [
        "sub_df = pd.DataFrame(y_pred2.tolist())\n",
        "# ff = y_pred2.tolist()\n",
        "sub_df.rename(columns={0: \"target_nb\"}, inplace=True)\n",
        "sub_df\n",
        "#sub_df"
      ],
      "execution_count": 23,
      "outputs": [
        {
          "output_type": "execute_result",
          "data": {
            "text/html": [
              "<div>\n",
              "<style scoped>\n",
              "    .dataframe tbody tr th:only-of-type {\n",
              "        vertical-align: middle;\n",
              "    }\n",
              "\n",
              "    .dataframe tbody tr th {\n",
              "        vertical-align: top;\n",
              "    }\n",
              "\n",
              "    .dataframe thead th {\n",
              "        text-align: right;\n",
              "    }\n",
              "</style>\n",
              "<table border=\"1\" class=\"dataframe\">\n",
              "  <thead>\n",
              "    <tr style=\"text-align: right;\">\n",
              "      <th></th>\n",
              "      <th>target_nb</th>\n",
              "    </tr>\n",
              "  </thead>\n",
              "  <tbody>\n",
              "    <tr>\n",
              "      <th>0</th>\n",
              "      <td>0</td>\n",
              "    </tr>\n",
              "    <tr>\n",
              "      <th>1</th>\n",
              "      <td>1</td>\n",
              "    </tr>\n",
              "    <tr>\n",
              "      <th>2</th>\n",
              "      <td>0</td>\n",
              "    </tr>\n",
              "    <tr>\n",
              "      <th>3</th>\n",
              "      <td>1</td>\n",
              "    </tr>\n",
              "    <tr>\n",
              "      <th>4</th>\n",
              "      <td>0</td>\n",
              "    </tr>\n",
              "    <tr>\n",
              "      <th>...</th>\n",
              "      <td>...</td>\n",
              "    </tr>\n",
              "    <tr>\n",
              "      <th>3258</th>\n",
              "      <td>1</td>\n",
              "    </tr>\n",
              "    <tr>\n",
              "      <th>3259</th>\n",
              "      <td>0</td>\n",
              "    </tr>\n",
              "    <tr>\n",
              "      <th>3260</th>\n",
              "      <td>0</td>\n",
              "    </tr>\n",
              "    <tr>\n",
              "      <th>3261</th>\n",
              "      <td>1</td>\n",
              "    </tr>\n",
              "    <tr>\n",
              "      <th>3262</th>\n",
              "      <td>1</td>\n",
              "    </tr>\n",
              "  </tbody>\n",
              "</table>\n",
              "<p>3263 rows × 1 columns</p>\n",
              "</div>"
            ],
            "text/plain": [
              "      target_nb\n",
              "0             0\n",
              "1             1\n",
              "2             0\n",
              "3             1\n",
              "4             0\n",
              "...         ...\n",
              "3258          1\n",
              "3259          0\n",
              "3260          0\n",
              "3261          1\n",
              "3262          1\n",
              "\n",
              "[3263 rows x 1 columns]"
            ]
          },
          "metadata": {
            "tags": []
          },
          "execution_count": 23
        }
      ]
    },
    {
      "cell_type": "markdown",
      "metadata": {
        "id": "mgzRia792Xr_"
      },
      "source": [
        "Prediction using RNN"
      ]
    },
    {
      "cell_type": "code",
      "metadata": {
        "id": "HwFd3gSEZn_s"
      },
      "source": [
        "#pip install tensorflow\n",
        "import tensorflow as tf\n",
        "from tensorflow.keras.layers import Embedding, LSTM, Dense, Activation, Dropout\n",
        "from tensorflow.keras.preprocessing.sequence import pad_sequences\n",
        "from tensorflow.keras.models import Sequential\n",
        "from tensorflow.keras.preprocessing.text import one_hot\n"
      ],
      "execution_count": 24,
      "outputs": []
    },
    {
      "cell_type": "code",
      "metadata": {
        "id": "6qPb_auQbrS5"
      },
      "source": [
        "#### Vocabulary size\n",
        "voc_size = 9000"
      ],
      "execution_count": 25,
      "outputs": []
    },
    {
      "cell_type": "code",
      "metadata": {
        "colab": {
          "base_uri": "https://localhost:8080/"
        },
        "id": "zhsf4TJEbxKH",
        "outputId": "e1c66e4a-c5db-40a2-b0ca-aa292a4bfaad"
      },
      "source": [
        "onehot_rep = [one_hot(words, voc_size) for words in cleaned_data]\n",
        "print(onehot_rep[1])\n",
        "onehot_rep_test = [one_hot(words, voc_size) for words in test_cleaned_data]\n",
        "print(onehot_rep_test[1])"
      ],
      "execution_count": 26,
      "outputs": [
        {
          "output_type": "stream",
          "text": [
            "[2513, 95, 2334, 5608, 2486, 3153, 7405]\n",
            "[7845, 1513, 7702, 3479, 4955, 7358, 4336]\n"
          ],
          "name": "stdout"
        }
      ]
    },
    {
      "cell_type": "markdown",
      "metadata": {
        "id": "ZP2GCemzp69I"
      },
      "source": [
        "Embedding Representation"
      ]
    },
    {
      "cell_type": "code",
      "metadata": {
        "colab": {
          "base_uri": "https://localhost:8080/"
        },
        "id": "z-OOGtZCp2wP",
        "outputId": "d92477f6-9fdb-4dbc-b5c7-f51f214d4c49"
      },
      "source": [
        "sent_length =25\n",
        "embedded_docs = pad_sequences(onehot_rep, padding=\"pre\", maxlen = sent_length)\n",
        "print(embedded_docs) \n",
        "\n",
        "embedded_docs_test = pad_sequences(onehot_rep_test, padding=\"pre\", maxlen=sent_length )"
      ],
      "execution_count": 27,
      "outputs": [
        {
          "output_type": "stream",
          "text": [
            "[[   0    0    0 ... 5109 6258  296]\n",
            " [   0    0    0 ... 2486 3153 7405]\n",
            " [   0    0    0 ... 1941 8144 8191]\n",
            " ...\n",
            " [   0    0    0 ... 7414 7809 6439]\n",
            " [   0    0    0 ... 8015 4383 6707]\n",
            " [   0    0    0 ...  348 2564 1475]]\n"
          ],
          "name": "stdout"
        }
      ]
    },
    {
      "cell_type": "code",
      "metadata": {
        "colab": {
          "base_uri": "https://localhost:8080/"
        },
        "id": "9M_Xk2pJqiD1",
        "outputId": "4a298fac-4156-407b-d56a-5989f8b5c286"
      },
      "source": [
        "embedded_docs[1]"
      ],
      "execution_count": 28,
      "outputs": [
        {
          "output_type": "execute_result",
          "data": {
            "text/plain": [
              "array([   0,    0,    0,    0,    0,    0,    0,    0,    0,    0,    0,\n",
              "          0,    0,    0,    0,    0,    0,    0, 2513,   95, 2334, 5608,\n",
              "       2486, 3153, 7405], dtype=int32)"
            ]
          },
          "metadata": {
            "tags": []
          },
          "execution_count": 28
        }
      ]
    },
    {
      "cell_type": "code",
      "metadata": {
        "colab": {
          "base_uri": "https://localhost:8080/"
        },
        "id": "LuIUh0kKqmo_",
        "outputId": "0ca16e1a-b2a1-4591-d6de-7298139de410"
      },
      "source": [
        "#### creating a model\n",
        "feature_vector = 100\n",
        "model = Sequential()\n",
        "model.add(Embedding(voc_size, feature_vector, input_length=sent_length))\n",
        "model.add(LSTM(100))\n",
        "model.add(Dense(1, activation='sigmoid'))\n",
        "model.add(Dropout(0.3))\n",
        "model.compile(loss='binary_crossentropy', optimizer='adam', metrics=['accuracy'])\n",
        "print(model.summary())"
      ],
      "execution_count": 29,
      "outputs": [
        {
          "output_type": "stream",
          "text": [
            "Model: \"sequential\"\n",
            "_________________________________________________________________\n",
            "Layer (type)                 Output Shape              Param #   \n",
            "=================================================================\n",
            "embedding (Embedding)        (None, 25, 100)           900000    \n",
            "_________________________________________________________________\n",
            "lstm (LSTM)                  (None, 100)               80400     \n",
            "_________________________________________________________________\n",
            "dense (Dense)                (None, 1)                 101       \n",
            "_________________________________________________________________\n",
            "dropout (Dropout)            (None, 1)                 0         \n",
            "=================================================================\n",
            "Total params: 980,501\n",
            "Trainable params: 980,501\n",
            "Non-trainable params: 0\n",
            "_________________________________________________________________\n",
            "None\n"
          ],
          "name": "stdout"
        }
      ]
    },
    {
      "cell_type": "code",
      "metadata": {
        "colab": {
          "base_uri": "https://localhost:8080/"
        },
        "id": "oL2Hef3EuKgT",
        "outputId": "5d5a8db5-c9f0-4396-ddfa-84b2bc44e257"
      },
      "source": [
        "len(embedded_docs),Y.shape"
      ],
      "execution_count": 30,
      "outputs": [
        {
          "output_type": "execute_result",
          "data": {
            "text/plain": [
              "(7613, (7613,))"
            ]
          },
          "metadata": {
            "tags": []
          },
          "execution_count": 30
        }
      ]
    },
    {
      "cell_type": "code",
      "metadata": {
        "id": "mOKMqYR1udW9"
      },
      "source": [
        "X_final = np.array(embedded_docs)\n",
        "Y_final = np.array(Y)\n",
        "\n",
        "X_train, X_test, y_train, y_test = train_test_split(X_final, Y_final, test_size=0.2)\n",
        "\n"
      ],
      "execution_count": 31,
      "outputs": []
    },
    {
      "cell_type": "markdown",
      "metadata": {
        "id": "cGSfUlVzu5la"
      },
      "source": [
        "##**Model** **Training**"
      ]
    },
    {
      "cell_type": "code",
      "metadata": {
        "colab": {
          "base_uri": "https://localhost:8080/"
        },
        "id": "5yfW3nnYu3Ih",
        "outputId": "2e08b0e3-36b0-4885-de34-4dc9dfe6d8ba"
      },
      "source": [
        "model.fit(X_train, y_train, validation_data=(X_test, y_test), epochs=10, batch_size=264)\n",
        "\n",
        "loss, accuracy = model.evaluate(X_train, y_train, verbose = 0)\n",
        "print(\"Training accuracy: {:.4f}\".format(accuracy))\n",
        "loss, accuracy = model.evaluate(X_test, y_test, verbose = 0)\n",
        "print(\"Testing accuracy: {:.4f}\".format(accuracy))"
      ],
      "execution_count": 32,
      "outputs": [
        {
          "output_type": "stream",
          "text": [
            "Epoch 1/10\n",
            "24/24 [==============================] - 6s 161ms/step - loss: 2.5452 - accuracy: 0.5335 - val_loss: 0.6721 - val_accuracy: 0.5666\n",
            "Epoch 2/10\n",
            "24/24 [==============================] - 3s 139ms/step - loss: 2.5098 - accuracy: 0.6824 - val_loss: 0.6179 - val_accuracy: 0.6507\n",
            "Epoch 3/10\n",
            "24/24 [==============================] - 3s 135ms/step - loss: 2.2467 - accuracy: 0.7502 - val_loss: 0.5409 - val_accuracy: 0.7538\n",
            "Epoch 4/10\n",
            "24/24 [==============================] - 3s 133ms/step - loss: 2.2370 - accuracy: 0.7778 - val_loss: 0.5269 - val_accuracy: 0.7669\n",
            "Epoch 5/10\n",
            "24/24 [==============================] - 3s 135ms/step - loss: 2.0326 - accuracy: 0.8082 - val_loss: 0.5387 - val_accuracy: 0.7525\n",
            "Epoch 6/10\n",
            "24/24 [==============================] - 3s 134ms/step - loss: 2.1180 - accuracy: 0.8186 - val_loss: 0.5574 - val_accuracy: 0.7505\n",
            "Epoch 7/10\n",
            "24/24 [==============================] - 3s 134ms/step - loss: 2.1179 - accuracy: 0.8268 - val_loss: 0.6006 - val_accuracy: 0.7531\n",
            "Epoch 8/10\n",
            "24/24 [==============================] - 3s 136ms/step - loss: 2.0120 - accuracy: 0.8411 - val_loss: 0.7157 - val_accuracy: 0.7525\n",
            "Epoch 9/10\n",
            "24/24 [==============================] - 3s 135ms/step - loss: 2.1752 - accuracy: 0.8181 - val_loss: 0.7256 - val_accuracy: 0.7262\n",
            "Epoch 10/10\n",
            "24/24 [==============================] - 3s 132ms/step - loss: 2.1220 - accuracy: 0.8263 - val_loss: 0.6775 - val_accuracy: 0.7426\n",
            "Training accuracy: 0.9271\n",
            "Testing accuracy: 0.7426\n"
          ],
          "name": "stdout"
        }
      ]
    },
    {
      "cell_type": "markdown",
      "metadata": {
        "id": "I3M5-Iu1v_sY"
      },
      "source": [
        "## **Prediction**"
      ]
    },
    {
      "cell_type": "code",
      "metadata": {
        "id": "v2RGp6akvgV2"
      },
      "source": [
        "#y_pred = (model.predict(embedded_docs_test) > 0.5).astype(\"int32\")\n",
        "y_pred = model.predict_classes(X_test)\n",
        "#y_pred = model.predict_classes(embedded_docs_test)\n",
        "import warnings\n",
        "warnings.filterwarnings(\"ignore\")"
      ],
      "execution_count": 49,
      "outputs": []
    },
    {
      "cell_type": "code",
      "metadata": {
        "colab": {
          "base_uri": "https://localhost:8080/"
        },
        "id": "bw7eK2qS_RQI",
        "outputId": "fd073119-84a1-404a-f3b8-5a5d9f887d6b"
      },
      "source": [
        "y_pred"
      ],
      "execution_count": 34,
      "outputs": [
        {
          "output_type": "execute_result",
          "data": {
            "text/plain": [
              "array([[0],\n",
              "       [0],\n",
              "       [1],\n",
              "       ...,\n",
              "       [0],\n",
              "       [0],\n",
              "       [0]], dtype=int32)"
            ]
          },
          "metadata": {
            "tags": []
          },
          "execution_count": 34
        }
      ]
    },
    {
      "cell_type": "code",
      "metadata": {
        "colab": {
          "base_uri": "https://localhost:8080/"
        },
        "id": "zt8e9XH150NE",
        "outputId": "e13d14ad-9f92-4411-a9a4-92d16dd2d8df"
      },
      "source": [
        "from sklearn.metrics import confusion_matrix\n",
        "\n",
        "confusion_matrix(y_test, y_pred)"
      ],
      "execution_count": 35,
      "outputs": [
        {
          "output_type": "execute_result",
          "data": {
            "text/plain": [
              "array([[771,  92],\n",
              "       [300, 360]])"
            ]
          },
          "metadata": {
            "tags": []
          },
          "execution_count": 35
        }
      ]
    },
    {
      "cell_type": "code",
      "metadata": {
        "colab": {
          "base_uri": "https://localhost:8080/"
        },
        "id": "-V_2DRtG4Gxh",
        "outputId": "14742d4a-56a2-419e-e249-f7ede2bf590f"
      },
      "source": [
        "from sklearn.metrics import accuracy_score\n",
        "accuracy_score(y_test, y_pred)"
      ],
      "execution_count": 36,
      "outputs": [
        {
          "output_type": "execute_result",
          "data": {
            "text/plain": [
              "0.7426132632961261"
            ]
          },
          "metadata": {
            "tags": []
          },
          "execution_count": 36
        }
      ]
    },
    {
      "cell_type": "code",
      "metadata": {
        "colab": {
          "base_uri": "https://localhost:8080/"
        },
        "id": "R7QVKYtIWdCy",
        "outputId": "ad051aef-7bff-4d43-deee-1efb95653df4"
      },
      "source": [
        "model.fit(X_final, Y_final, epochs=10, verbose=1 )"
      ],
      "execution_count": 37,
      "outputs": [
        {
          "output_type": "stream",
          "text": [
            "Epoch 1/10\n",
            "238/238 [==============================] - 8s 35ms/step - loss: 2.2687 - accuracy: 0.7915\n",
            "Epoch 2/10\n",
            "238/238 [==============================] - 8s 35ms/step - loss: 2.2613 - accuracy: 0.8040\n",
            "Epoch 3/10\n",
            "238/238 [==============================] - 8s 35ms/step - loss: 2.1370 - accuracy: 0.8269\n",
            "Epoch 4/10\n",
            "238/238 [==============================] - 8s 35ms/step - loss: 2.1465 - accuracy: 0.8291\n",
            "Epoch 5/10\n",
            "238/238 [==============================] - 8s 35ms/step - loss: 2.1707 - accuracy: 0.8333\n",
            "Epoch 6/10\n",
            "238/238 [==============================] - 8s 35ms/step - loss: 2.0773 - accuracy: 0.8436\n",
            "Epoch 7/10\n",
            "238/238 [==============================] - 8s 35ms/step - loss: 2.0399 - accuracy: 0.8512\n",
            "Epoch 8/10\n",
            "238/238 [==============================] - 8s 35ms/step - loss: 2.0269 - accuracy: 0.8528\n",
            "Epoch 9/10\n",
            "238/238 [==============================] - 8s 35ms/step - loss: 2.1121 - accuracy: 0.8493\n",
            "Epoch 10/10\n",
            "238/238 [==============================] - 8s 35ms/step - loss: 2.1348 - accuracy: 0.8501\n"
          ],
          "name": "stdout"
        },
        {
          "output_type": "execute_result",
          "data": {
            "text/plain": [
              "<tensorflow.python.keras.callbacks.History at 0x7f6ca6371190>"
            ]
          },
          "metadata": {
            "tags": []
          },
          "execution_count": 37
        }
      ]
    },
    {
      "cell_type": "code",
      "metadata": {
        "colab": {
          "base_uri": "https://localhost:8080/"
        },
        "id": "15-TeQOwmF0W",
        "outputId": "6c1e385a-4156-4825-e7fe-2620aacf6054"
      },
      "source": [
        "loss, accuracy = model.evaluate(X_final, Y_final, verbose = 0)\n",
        "print(\"Training accuracy: {:.4f}\".format(accuracy))"
      ],
      "execution_count": 45,
      "outputs": [
        {
          "output_type": "stream",
          "text": [
            "Training accuracy: 0.9744\n"
          ],
          "name": "stdout"
        }
      ]
    },
    {
      "cell_type": "code",
      "metadata": {
        "id": "yJMiBvTJSkiH"
      },
      "source": [
        "y_pred = model.predict_classes(embedded_docs_test)\n",
        "y_pred\n",
        "warnings.filterwarnings(\"ignore\")"
      ],
      "execution_count": 50,
      "outputs": []
    },
    {
      "cell_type": "code",
      "metadata": {
        "colab": {
          "base_uri": "https://localhost:8080/"
        },
        "id": "Hj1iKh-ZTatI",
        "outputId": "cf3eb9d7-2774-4c95-c518-d1e7a421b84b"
      },
      "source": [
        "embedded_docs_test.shape"
      ],
      "execution_count": 40,
      "outputs": [
        {
          "output_type": "execute_result",
          "data": {
            "text/plain": [
              "(3263, 25)"
            ]
          },
          "metadata": {
            "tags": []
          },
          "execution_count": 40
        }
      ]
    },
    {
      "cell_type": "code",
      "metadata": {
        "colab": {
          "base_uri": "https://localhost:8080/",
          "height": 417
        },
        "id": "VTp6kj0JSx-7",
        "outputId": "ae552cb9-fb51-426a-e9b9-00c742d23626"
      },
      "source": [
        "#sub_df = pd.DataFrame(y_pred2.tolist())\n",
        "# ff = y_pred2.tolist()\n",
        "#sub_df.rename(columns={0: \"target_nb\"}, inplace=True)\n",
        "sub_df['target_rnn'] = y_pred.tolist()\n",
        "sub_df"
      ],
      "execution_count": 47,
      "outputs": [
        {
          "output_type": "execute_result",
          "data": {
            "text/html": [
              "<div>\n",
              "<style scoped>\n",
              "    .dataframe tbody tr th:only-of-type {\n",
              "        vertical-align: middle;\n",
              "    }\n",
              "\n",
              "    .dataframe tbody tr th {\n",
              "        vertical-align: top;\n",
              "    }\n",
              "\n",
              "    .dataframe thead th {\n",
              "        text-align: right;\n",
              "    }\n",
              "</style>\n",
              "<table border=\"1\" class=\"dataframe\">\n",
              "  <thead>\n",
              "    <tr style=\"text-align: right;\">\n",
              "      <th></th>\n",
              "      <th>target_nb</th>\n",
              "      <th>target_rnn</th>\n",
              "    </tr>\n",
              "  </thead>\n",
              "  <tbody>\n",
              "    <tr>\n",
              "      <th>0</th>\n",
              "      <td>0</td>\n",
              "      <td>[1]</td>\n",
              "    </tr>\n",
              "    <tr>\n",
              "      <th>1</th>\n",
              "      <td>1</td>\n",
              "      <td>[0]</td>\n",
              "    </tr>\n",
              "    <tr>\n",
              "      <th>2</th>\n",
              "      <td>0</td>\n",
              "      <td>[1]</td>\n",
              "    </tr>\n",
              "    <tr>\n",
              "      <th>3</th>\n",
              "      <td>1</td>\n",
              "      <td>[1]</td>\n",
              "    </tr>\n",
              "    <tr>\n",
              "      <th>4</th>\n",
              "      <td>0</td>\n",
              "      <td>[0]</td>\n",
              "    </tr>\n",
              "    <tr>\n",
              "      <th>...</th>\n",
              "      <td>...</td>\n",
              "      <td>...</td>\n",
              "    </tr>\n",
              "    <tr>\n",
              "      <th>3258</th>\n",
              "      <td>1</td>\n",
              "      <td>[0]</td>\n",
              "    </tr>\n",
              "    <tr>\n",
              "      <th>3259</th>\n",
              "      <td>0</td>\n",
              "      <td>[1]</td>\n",
              "    </tr>\n",
              "    <tr>\n",
              "      <th>3260</th>\n",
              "      <td>0</td>\n",
              "      <td>[1]</td>\n",
              "    </tr>\n",
              "    <tr>\n",
              "      <th>3261</th>\n",
              "      <td>1</td>\n",
              "      <td>[1]</td>\n",
              "    </tr>\n",
              "    <tr>\n",
              "      <th>3262</th>\n",
              "      <td>1</td>\n",
              "      <td>[0]</td>\n",
              "    </tr>\n",
              "  </tbody>\n",
              "</table>\n",
              "<p>3263 rows × 2 columns</p>\n",
              "</div>"
            ],
            "text/plain": [
              "      target_nb target_rnn\n",
              "0             0        [1]\n",
              "1             1        [0]\n",
              "2             0        [1]\n",
              "3             1        [1]\n",
              "4             0        [0]\n",
              "...         ...        ...\n",
              "3258          1        [0]\n",
              "3259          0        [1]\n",
              "3260          0        [1]\n",
              "3261          1        [1]\n",
              "3262          1        [0]\n",
              "\n",
              "[3263 rows x 2 columns]"
            ]
          },
          "metadata": {
            "tags": []
          },
          "execution_count": 47
        }
      ]
    },
    {
      "cell_type": "code",
      "metadata": {
        "id": "UKjT1p7ckw5P"
      },
      "source": [
        "sub_df.to_csv(\"prediction.csv\")"
      ],
      "execution_count": 43,
      "outputs": []
    }
  ]
}